{
  "nbformat": 4,
  "nbformat_minor": 0,
  "metadata": {
    "colab": {
      "name": "matplotlib_show_chinese_in_colab.ipynb",
      "provenance": [],
      "collapsed_sections": [],
      "include_colab_link": true
    },
    "kernelspec": {
      "name": "python3",
      "display_name": "Python 3"
    }
  },
  "cells": [
    {
      "cell_type": "markdown",
      "metadata": {
        "id": "view-in-github",
        "colab_type": "text"
      },
      "source": [
        "<a href=\"https://colab.research.google.com/github/willismax/matplotlib_show_chinese_in_colab/blob/master/matplotlib_show_chinese_in_colab.ipynb\" target=\"_parent\"><img src=\"https://colab.research.google.com/assets/colab-badge.svg\" alt=\"Open In Colab\"/></a>"
      ]
    },
    {
      "cell_type": "markdown",
      "metadata": {
        "id": "-V2uiORvNza7",
        "colab_type": "text"
      },
      "source": [
        "# Colab 進行matplotlib繪圖時顯示繁體中文"
      ]
    },
    {
      "cell_type": "markdown",
      "metadata": {
        "id": "SPQazY6gJI1E",
        "colab_type": "text"
      },
      "source": [
        "將可顯示的中文字體存在Colab內及呼叫的方法\n"
      ]
    },
    {
      "cell_type": "markdown",
      "metadata": {
        "id": "D5ZyQVHeN5TG",
        "colab_type": "text"
      },
      "source": [
        "## 說明\n",
        "- matplotlib繪圖要顯示中文非常不容易，單機版可以成功不代表在Colab可以順利運行，經過一番苦心找到解法，並且更新為目前很夯的「台北黑體」(開源且可商用）。\n",
        "\n",
        "\n"
      ]
    },
    {
      "cell_type": "markdown",
      "metadata": {
        "id": "uay8tZ-mNCGM",
        "colab_type": "text"
      },
      "source": [
        "## 解法\n",
        "1. 下載指定自型置於colab指定位置\n",
        "  - 以`!wget`下載字體\n",
        "  - 存置Colab路徑： /usr/local/lib/python3.6/dist-packages/matplotlib/mpl-data/fonts/ttf\n",
        "2. 各種文字輸出的函數加入fontproperties屬性，如:\n",
        "  ```python\n",
        "  plt.title(\"自訂標題\",fontproperties=myfont) \n",
        "  plt.ylabel(\"自訂y軸\",fontproperties=myfont) \n",
        "  plt.xlabel(\"自訂x軸\",fontproperties=myfont)  \n",
        "  ```"
      ]
    },
    {
      "cell_type": "code",
      "metadata": {
        "id": "E6BV3V81MXHe",
        "colab_type": "code",
        "colab": {}
      },
      "source": [
        "#下載台北思源黑體並命名taipei_sans_tc_beta.ttf，移至指定路徑\n",
        "!wget -O taipei_sans_tc_beta.ttf https://drive.google.com/uc?id=1eGAsTN1HBpJAkeVM57_C7ccp7hbgSz3_&export=download ; mv taipei_sans_tc_beta.ttf /usr/local/lib/python3.6/dist-packages/matplotlib//mpl-data/fonts/ttf"
      ],
      "execution_count": 0,
      "outputs": []
    },
    {
      "cell_type": "code",
      "metadata": {
        "id": "HjuHya9oEv5g",
        "colab_type": "code",
        "outputId": "9af258af-262b-4970-d4e8-c298912b0827",
        "colab": {
          "base_uri": "https://localhost:8080/",
          "height": 293
        }
      },
      "source": [
        "from matplotlib.font_manager import FontProperties\n",
        "import matplotlib.pyplot as plt \n",
        "\n",
        "myfont = FontProperties(fname=r'/usr/local/lib/python3.6/dist-packages/matplotlib/mpl-data/fonts/ttf/taipei_sans_tc_beta.ttf')\n",
        "\n",
        "plt.plot((10,20,30),(400,500,600)) \n",
        "plt.title(\"標題\",fontproperties=myfont) \n",
        "plt.ylabel(\"y軸\",fontproperties=myfont) \n",
        "plt.xlabel(\"x軸\",fontproperties=myfont)  \n",
        "plt.show()"
      ],
      "execution_count": 0,
      "outputs": [
        {
          "output_type": "display_data",
          "data": {
            "image/png": "[encoded data removed]",
            "text/plain": [
              "<Figure size 432x288 with 1 Axes>"
            ]
          },
          "metadata": {
            "tags": []
          }
        }
      ]
    },
    {
      "cell_type": "markdown",
      "metadata": {
        "id": "vw9ce7WO6ePN",
        "colab_type": "text"
      },
      "source": [
        "## 參考\n",
        "-  [解決Python 3 Matplotlib與Seaborn視覺化套件中文顯示問題](https://medium.com/marketingdatascience/%E8%A7%A3%E6%B1%BApython-3-matplotlib%E8%88%87seaborn%E8%A6%96%E8%A6%BA%E5%8C%96%E5%A5%97%E4%BB%B6%E4%B8%AD%E6%96%87%E9%A1%AF%E7%A4%BA%E5%95%8F%E9%A1%8C-f7b3773a889b)"
      ]
    }
  ]
}