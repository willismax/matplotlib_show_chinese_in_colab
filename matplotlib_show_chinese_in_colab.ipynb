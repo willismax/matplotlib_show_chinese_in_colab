{
  "nbformat": 4,
  "nbformat_minor": 0,
  "metadata": {
    "colab": {
      "name": "Copy of 中文繪圖測試.ipynb",
      "provenance": [],
      "include_colab_link": true
    },
    "kernelspec": {
      "name": "python3",
      "display_name": "Python 3"
    }
  },
  "cells": [
    {
      "cell_type": "markdown",
      "metadata": {
        "id": "view-in-github",
        "colab_type": "text"
      },
      "source": [
        "<a href=\"https://colab.research.google.com/drive/1ED5893nNlHnRyM-HRVuDvWW_zST4Rson\" target=\"_parent\"><img src=\"https://colab.research.google.com/assets/colab-badge.svg\" alt=\"Open In Colab\"/></a>"
      ]
    },
    {
      "cell_type": "markdown",
      "metadata": {
        "id": "-V2uiORvNza7",
        "colab_type": "text"
      },
      "source": [
        "# Colab 進行matplotlib繪圖時顯示繁體中文"
      ]
    },
    {
      "cell_type": "markdown",
      "metadata": {
        "id": "D5ZyQVHeN5TG",
        "colab_type": "text"
      },
      "source": [
        "## 說明\n",
        "- Google Colab實現了跨平台輕鬆好用的雲端筆記本，不過matplotlib繪圖要顯示中文非常不容易，單機版可以成功不代表在Colab可以順利運行，經過一番苦心找到解法，並且更新為目前很夯的「台北黑體」，不像微軟正黑體不能商用，終於實現可行的方案。\n",
        "\n",
        "## 解法\n",
        "1. 下載指定自型置於colab指定位置\n",
        "  - 以`!wget`下載字體\n",
        "  - 存置Colab路徑/usr/local/lib/python3.6/dist-packages/matplotlib//mpl-data/fonts/ttf\n",
        "2. 各種文字輸出的函數加入fontproperties屬性，如:\n",
        "  ```python\n",
        "  matplotlib.pyplot.title(\"標題\",fontproperties=myfont) \n",
        "  matplotlib.pyplot.ylabel(\"y軸\",fontproperties=myfont) \n",
        "  matplotlib.pyplot.xlabel(\"x軸\",fontproperties=myfont)  \n",
        "  ```"
      ]
    },
    {
      "cell_type": "code",
      "metadata": {
        "id": "E6BV3V81MXHe",
        "colab_type": "code",
        "colab": {}
      },
      "source": [
        "#下載台北思源黑體並命名taipei_sans_tc_beta.ttf，移至指定路徑\n",
        "!wget -O taipei_sans_tc_beta.ttf https://drive.google.com/uc?id=1eGAsTN1HBpJAkeVM57_C7ccp7hbgSz3_&export=download ; mv taipei_sans_tc_beta.ttf /usr/local/lib/python3.6/dist-packages/matplotlib//mpl-data/fonts/ttf"
      ],
      "execution_count": 0,
      "outputs": []
    },
    {
      "cell_type": "code",
      "metadata": {
        "id": "HjuHya9oEv5g",
        "colab_type": "code",
        "outputId": "f4305d83-7c8d-4bf3-b0e1-372c038c5f19",
        "colab": {
          "base_uri": "https://localhost:8080/",
          "height": 301
        }
      },
      "source": [
        "from matplotlib.font_manager import FontProperties\n",
        "import matplotlib.pyplot as plt \n",
        "\n",
        "myfont = FontProperties(fname=r'/usr/local/lib/python3.6/dist-packages/matplotlib/mpl-data/fonts/ttf/taipei_sans_tc_beta.ttf')\n",
        "\n",
        "plt.plot((10,20,30),(400,500,600)) \n",
        "plt.title(\"標題\",fontproperties=myfont) \n",
        "plt.ylabel(\"y軸\",fontproperties=myfont) \n",
        "plt.xlabel(\"x軸\",fontproperties=myfont)  \n",
        "plt.show()"
      ],
      "execution_count": 42,
      "outputs": [
        {
          "output_type": "display_data",
          "data": {
            "image/png": "[encoded data removed]",
            "text/plain": [
              "<Figure size 432x288 with 1 Axes>"
            ]
          },
          "metadata": {
            "tags": []
          }
        }
      ]
    },
    {
      "cell_type": "markdown",
      "metadata": {
        "id": "vw9ce7WO6ePN",
        "colab_type": "text"
      },
      "source": [
        "## 參考\n",
        "-  [解決Python 3 Matplotlib與Seaborn視覺化套件中文顯示問題](https://medium.com/marketingdatascience/%E8%A7%A3%E6%B1%BApython-3-matplotlib%E8%88%87seaborn%E8%A6%96%E8%A6%BA%E5%8C%96%E5%A5%97%E4%BB%B6%E4%B8%AD%E6%96%87%E9%A1%AF%E7%A4%BA%E5%95%8F%E9%A1%8C-f7b3773a889b)"
      ]
    }
  ]
}
